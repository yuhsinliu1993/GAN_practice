{
 "cells": [
  {
   "cell_type": "code",
   "execution_count": 9,
   "metadata": {
    "collapsed": false
   },
   "outputs": [],
   "source": [
    "import numpy as np\n",
    "from tqdm import tqdm\n",
    "import matplotlib.pyplot as plt\n",
    "\n",
    "from keras.layers import Input\n",
    "from keras.models import Model, Sequential\n",
    "from keras.layers.core import Reshape, Dense, Dropout, Flatten\n",
    "from keras.layers.advanced_activations import LeakyReLU\n",
    "from keras.layers.convolutional import Conv2D, UpSampling2D\n",
    "from keras.datasets import mnist\n",
    "from keras.optimizers import Adam\n",
    "from keras import backend as K"
   ]
  },
  {
   "cell_type": "code",
   "execution_count": 28,
   "metadata": {
    "collapsed": false
   },
   "outputs": [
    {
     "name": "stdout",
     "output_type": "stream",
     "text": [
      "\n"
     ]
    }
   ],
   "source": [
    "# In 'th' mode, the channels dimension (the depth) is at index 1\n",
    "K.set_image_dim_ordering('th')\n",
    "\n",
    "np.random.seed(1000)\n",
    "\n",
    "random_dim = 100\n",
    "\n",
    "batch_size = 128\n",
    "\n",
    "epochs = 10\n",
    "adam = Adam(lr=0.0002, beta_1=0.5) "
   ]
  },
  {
   "cell_type": "code",
   "execution_count": 3,
   "metadata": {
    "collapsed": false
   },
   "outputs": [],
   "source": [
    "# Load MNIST data\n",
    "(X_train, y_train), (X_test, y_test) = mnist.load_data()\n",
    "X_train = (X_train.astype(np.float32) - 127.5) / 127.5\n",
    "X_train = X_train[:, np.newaxis, :, :]"
   ]
  },
  {
   "cell_type": "code",
   "execution_count": 22,
   "metadata": {
    "collapsed": false
   },
   "outputs": [],
   "source": [
    "# Generator\n",
    "generator = Sequential()\n",
    "generator.add(Dense(128 * 7 * 7, input_shape=(random_dim,), kernel_initializer='random_uniform'))\n",
    "generator.add(LeakyReLU(0.2))\n",
    "generator.add(Reshape((128, 7, 7)))\n",
    "generator.add(UpSampling2D(size=(2, 2), data_format='channels_first'))\n",
    "generator.add(Conv2D(64, kernel_size=(5, 5), data_format='channels_first', padding='same'))\n",
    "generator.add(LeakyReLU(0.2))\n",
    "generator.add(UpSampling2D(size=(2, 2), data_format='channels_first'))\n",
    "generator.add(Conv2D(1, kernel_size=(5, 5), data_format='channels_first', padding='same', activation='tanh'))\n",
    "generator.compile(loss='binary_crossentropy', optimizer=adam)"
   ]
  },
  {
   "cell_type": "code",
   "execution_count": 16,
   "metadata": {
    "collapsed": false
   },
   "outputs": [],
   "source": [
    "# Discriminator\n",
    "discriminator = Sequential()\n",
    "discriminator.add(Conv2D(64, kernel_size=(5, 5), strides=(2, 2), data_format='channels_first', padding='same', kernel_initializer='random_uniform', input_shape=(1, 28, 28)))\n",
    "discriminator.add(LeakyReLU(0.2))\n",
    "discriminator.add(Dropout(0.3))\n",
    "discriminator.add(Conv2D(64, kernel_size=(5, 5), strides=(2, 2), data_format='channels_first', padding='same', kernel_initializer='random_uniform')) \n",
    "discriminator.add(LeakyReLU(0.2))\n",
    "discriminator.add(Dropout(0.3))\n",
    "discriminator.add(Flatten())\n",
    "discriminator.add(Dense(1, activation='sigmoid'))\n",
    "discriminator.compile(loss='binary_crossentropy', optimizer=adam)"
   ]
  },
  {
   "cell_type": "code",
   "execution_count": 24,
   "metadata": {
    "collapsed": false
   },
   "outputs": [],
   "source": [
    "# Combined network\n",
    "discriminator.trainable = False\n",
    "gan_input = Input(shape=(random_dim,))\n",
    "x = generator(gan_input)\n",
    "gan_output = discriminator(x)\n",
    "gan = Model(inputs=gan_input, outputs=gan_output)\n",
    "gan.compile(loss='binary_crossentropy', optimizer=adam)"
   ]
  },
  {
   "cell_type": "code",
   "execution_count": 29,
   "metadata": {
    "collapsed": false
   },
   "outputs": [
    {
     "name": "stdout",
     "output_type": "stream",
     "text": [
      "Number of epochs:  10\n",
      "Batch size:  128\n",
      "Batches per epoch:  468\n"
     ]
    }
   ],
   "source": [
    "total_batch_number = X_train.shape[0] / batch_size\n",
    "\n",
    "print 'Number of epochs: ', epochs\n",
    "print 'Batch size: ', batch_size\n",
    "print 'Batches per epoch: ', total_batch_number\n",
    "\n"
   ]
  },
  {
   "cell_type": "code",
   "execution_count": null,
   "metadata": {
    "collapsed": true
   },
   "outputs": [],
   "source": [
    "for e in xrange(1, epochs + 1):\n",
    "    print '-' * 15, 'Epoch %d' % e, '-' * 15\n",
    "\n",
    "    for _ in tqdm(xrange(total_batch_number)):\n",
    "\n",
    "        # Get a random set of input images\n",
    "        batch_indices = np.random.randint(0, X_train.shape[0], size=batch_size)\n",
    "        real_images = X_train[batch_indices]\n",
    "\n",
    "        # Generate fake MNIST images\n",
    "        noise = np.random.normal(0, 1, size=[batch_size, random_dim])\n",
    "        generated_images = generator.predict(noise)\n",
    "        \n",
    "        X = np.concatenate([real_images, generated_images])\n",
    "\n",
    "        # Labels for generated and real data\n",
    "        yDis = np.zeros(2 * batch_size)\n",
    "        # One-sided label smoothing\n",
    "        yDis[:batch_size] = 0.9\n",
    "\n",
    "        # Train discriminator\n",
    "        discriminator.trainable = True\n",
    "        d_loss = discriminator.train_on_batch(X, yDis)\n",
    "\n",
    "        # Train generator\n",
    "        noise = np.random.normal(0, 1, size=[batch_size, random_dim])\n",
    "        yGen = np.ones(batch_size)\n",
    "        discriminator.trainable = False\n",
    "        g_loss = gan.train_on_batch(noise, yGen)\n"
   ]
  },
  {
   "cell_type": "code",
   "execution_count": null,
   "metadata": {
    "collapsed": true
   },
   "outputs": [],
   "source": []
  }
 ],
 "metadata": {
  "kernelspec": {
   "display_name": "Python 2",
   "language": "python",
   "name": "python2"
  },
  "language_info": {
   "codemirror_mode": {
    "name": "ipython",
    "version": 2
   },
   "file_extension": ".py",
   "mimetype": "text/x-python",
   "name": "python",
   "nbconvert_exporter": "python",
   "pygments_lexer": "ipython2",
   "version": "2.7.13"
  }
 },
 "nbformat": 4,
 "nbformat_minor": 2
}
